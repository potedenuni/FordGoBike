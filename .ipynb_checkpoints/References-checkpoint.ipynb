{
 "cells": [
  {
   "cell_type": "markdown",
   "metadata": {},
   "source": [
    "Reading Multiple CSVs\n",
    "\n",
    "https://medium.com/@kadek/elegantly-reading-multiple-csvs-into-pandas-e1a76843b688\n",
    "\n",
    "Reading CSVs in Pandas\n",
    "\n",
    "https://pandas.pydata.org/pandas-docs/stable/reference/api/pandas.read_csv.html\n",
    "\n",
    "https://honingds.com/blog/pandas-read_csv/\n",
    "\n",
    "https://stackoverflow.com/questions/20906474/import-multiple-csv-files-into-pandas-and-concatenate-into-one-dataframe\n",
    "\n",
    "https://stackoverflow.com/questions/20906474/import-multiple-csv-files-into-pandas-and-concatenate-into-one-dataframe\n",
    "\n",
    "DateTimes in Read_CSV\n",
    "\n",
    "https://stackoverflow.com/questions/21269399/datetime-dtypes-in-pandas-read-csv\n",
    "\n",
    "Ford GoBike Terms\n",
    "\n",
    "https://assets.fordgobike.com/terms.html\n",
    "\n",
    "NA values in INT\n",
    "\n",
    "https://stackoverflow.com/questions/21287624/convert-pandas-column-containing-nans-to-dtype-int\n",
    "\n",
    "vmin and vmax to control colorbar range\n",
    "\n",
    "https://stackoverflow.com/questions/36000698/doubts-about-setting-range-of-colorbar-in-the-hist2d-plot-matplotlib\n",
    "\n",
    "Format colorbar()\n",
    "\n",
    "https://matplotlib.org/3.1.1/api/_as_gen/matplotlib.pyplot.colorbar.html\n",
    "\n",
    "Logspace\n",
    "\n",
    "https://docs.scipy.org/doc/numpy/reference/generated/numpy.logspace.html\n",
    "\n",
    "Circle Plot\n",
    "\n",
    "https://matplotlib.org/3.1.1/api/_as_gen/matplotlib.patches.Circle.html\n",
    "\n",
    "https://stackoverflow.com/questions/9215658/plot-a-circle-with-pyplot\n",
    "\n"
   ]
  }
 ],
 "metadata": {
  "kernelspec": {
   "display_name": "Python 3",
   "language": "python",
   "name": "python3"
  },
  "language_info": {
   "codemirror_mode": {
    "name": "ipython",
    "version": 3
   },
   "file_extension": ".py",
   "mimetype": "text/x-python",
   "name": "python",
   "nbconvert_exporter": "python",
   "pygments_lexer": "ipython3",
   "version": "3.7.3"
  }
 },
 "nbformat": 4,
 "nbformat_minor": 2
}
